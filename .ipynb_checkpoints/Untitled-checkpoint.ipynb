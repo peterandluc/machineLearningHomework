{
 "cells": [
  {
   "cell_type": "code",
   "execution_count": 6,
   "metadata": {},
   "outputs": [],
   "source": [
    "import numpy as np  \n",
    "import matplotlib.pyplot as plt  \n",
    "\n",
    "from keras.models import Sequential  \n",
    "from keras.layers import Dense \n",
    "from keras.optimizers import SGD  "
   ]
  },
  {
   "cell_type": "code",
   "execution_count": 7,
   "metadata": {},
   "outputs": [
    {
     "data": {
      "image/png": "[encoded data removed]",
      "text/plain": [
       "<matplotlib.figure.Figure at 0x11594c400>"
      ]
     },
     "metadata": {},
     "output_type": "display_data"
    }
   ],
   "source": [
    "X = np.linspace(-2, 6, 200)  \n",
    "np.random.shuffle(X)  \n",
    "Y = 0.5 * X + 2 + 0.15 * np.random.randn(200,)   \n",
    "  \n",
    "# plot data  \n",
    "plt.scatter(X, Y)  \n",
    "plt.show()  \n",
    "  \n",
    "X_train, Y_train = X[:160], Y[:160]     # train first 160 data points  \n",
    "X_test, Y_test = X[160:], Y[160:]       # test remaining 40 data points "
   ]
  },
  {
   "cell_type": "code",
   "execution_count": 11,
   "metadata": {},
   "outputs": [
    {
     "name": "stdout",
     "output_type": "stream",
     "text": [
      "Training -----------\n",
      "train cost:  36.1692\n",
      "train cost:  0.0709054\n",
      "train cost:  0.0435853\n",
      "train cost:  0.0264519\n",
      "train cost:  0.0264561\n"
     ]
    }
   ],
   "source": [
    "model = Sequential()  \n",
    "model.add(Dense(1, input_shape=(1,)))  \n",
    "model.compile(loss='mse', optimizer=SGD(lr=0.01, momentum=0.9, nesterov=True)) \n",
    "print('Training -----------')  \n",
    "for step in range(100):  \n",
    "    cost = model.train_on_batch(X_train, Y_train)  \n",
    "    if step % 20 == 0:  \n",
    "        print('train cost: ', cost) "
   ]
  },
  {
   "cell_type": "code",
   "execution_count": 12,
   "metadata": {},
   "outputs": [
    {
     "name": "stdout",
     "output_type": "stream",
     "text": [
      "40/40 [==============================] - 0s 2ms/step\n",
      "\n",
      "Testing ------------\n",
      "40/40 [==============================] - 0s 31us/step\n",
      "test cost: 0.0180712752044\n",
      "Weights= [[ 0.50653952]] \n",
      "biases= [ 2.0065999]\n"
     ]
    }
   ],
   "source": [
    "cost = model.evaluate(X_test, Y_test, batch_size=40)  \n",
    "print('\\nTesting ------------')  \n",
    "loss_and_metrics = model.evaluate(X_test, Y_test, batch_size=40)  \n",
    "print('test cost:', cost)  \n",
    "W, b = model.layers[0].get_weights()  \n",
    "print('Weights=', W, '\\nbiases=', b)  "
   ]
  },
  {
   "cell_type": "code",
   "execution_count": 13,
   "metadata": {},
   "outputs": [
    {
     "data": {
      "image/png": "[encoded data removed]",
      "text/plain": [
       "<matplotlib.figure.Figure at 0x11a44cfd0>"
      ]
     },
     "metadata": {},
     "output_type": "display_data"
    }
   ],
   "source": [
    "Y_pred = model.predict(X_test)  \n",
    "plt.scatter(X_test, Y_test)  \n",
    "plt.plot(X_test, Y_pred)  \n",
    "plt.show() "
   ]
  },
  {
   "cell_type": "code",
   "execution_count": null,
   "metadata": {
    "collapsed": true
   },
   "outputs": [],
   "source": []
  }
 ],
 "metadata": {
  "kernelspec": {
   "display_name": "Python 3",
   "language": "python",
   "name": "python3"
  },
  "language_info": {
   "codemirror_mode": {
    "name": "ipython",
    "version": 3
   },
   "file_extension": ".py",
   "mimetype": "text/x-python",
   "name": "python",
   "nbconvert_exporter": "python",
   "pygments_lexer": "ipython3",
   "version": "3.5.4"
  }
 },
 "nbformat": 4,
 "nbformat_minor": 2
}
