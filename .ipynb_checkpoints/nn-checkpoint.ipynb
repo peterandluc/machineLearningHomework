{
 "cells": [
  {
   "cell_type": "code",
   "execution_count": 1,
   "metadata": {
    "collapsed": true
   },
   "outputs": [],
   "source": [
    "%matplotlib notebook\n",
    "\n",
    "import math\n",
    "import matplotlib as mpl\n",
    "import matplotlib.pyplot as plt\n",
    "import numpy as np\n",
    "import numpy.random\n",
    "from mnist import MNIST # run from Anaconda shell: pip install python-mnist\n",
    "from collections import Counter\n",
    "import sklearn.metrics\n",
    "from sklearn.model_selection import KFold\n",
    "\n",
    "inNotebook = True # change this to True if you use a notebook\n",
    "def nextplot():\n",
    "    if inNotebook:\n",
    "        plt.figure()  # this creates a new plot\n",
    "    else:\n",
    "        plt.clf()     # and this clears the current one"
   ]
  },
  {
   "cell_type": "markdown",
   "metadata": {},
   "source": [
    "# Load Data"
   ]
  },
  {
   "cell_type": "code",
   "execution_count": 3,
   "metadata": {
    "collapsed": true
   },
   "outputs": [],
   "source": [
    "mndata = MNIST(\"html17-a2/data/\")\n",
    "X, y = mndata.load_training()\n",
    "y = np.array(y, dtype=\"uint8\") # y.shape = 60000\n",
    "X = np.array([np.array(x) for x in X], dtype=\"uint8\")\n",
    "N, D = X.shape # N = 60000, D = 784\n",
    "Xtest, ytest = mndata.load_testing()\n",
    "ytest = np.array(ytest, dtype=\"uint8\")\n",
    "Xtest = np.array([np.array(x) for x in Xtest], dtype=\"uint8\")\n",
    "Ntest = Xtest.shape[0] # Ntest = 10000"
   ]
  },
  {
   "cell_type": "markdown",
   "metadata": {},
   "source": [
    "# Training"
   ]
  },
  {
   "cell_type": "code",
   "execution_count": null,
   "metadata": {
    "collapsed": true
   },
   "outputs": [],
   "source": []
  }
 ],
 "metadata": {
  "kernelspec": {
   "display_name": "Python 3",
   "language": "python",
   "name": "python3"
  },
  "language_info": {
   "codemirror_mode": {
    "name": "ipython",
    "version": 3
   },
   "file_extension": ".py",
   "mimetype": "text/x-python",
   "name": "python",
   "nbconvert_exporter": "python",
   "pygments_lexer": "ipython3",
<<<<<<< HEAD
   "version": "3.6.2"
=======
   "version": "3.6.1"
>>>>>>> 0eee905fa151bd3be141b85aabb103b5e37dbe32
  }
 },
 "nbformat": 4,
 "nbformat_minor": 2
}
